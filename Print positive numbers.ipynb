{
 "cells": [
  {
   "cell_type": "code",
   "execution_count": 1,
   "id": "246a33b8",
   "metadata": {},
   "outputs": [
    {
     "name": "stdout",
     "output_type": "stream",
     "text": [
      "1 -3 -4 -2 4 5 7 9 10\n"
     ]
    },
    {
     "data": {
      "text/plain": [
       "[1, 4, 5, 7, 9, 10]"
      ]
     },
     "execution_count": 1,
     "metadata": {},
     "output_type": "execute_result"
    }
   ],
   "source": [
    "l=list(map(int,input().split()))  #for taking input list\n",
    "p=[i for i in l if i>=0]          #for positive numbers\n",
    "p                                 #output list"
   ]
  },
  {
   "cell_type": "code",
   "execution_count": null,
   "id": "765ee4e0",
   "metadata": {},
   "outputs": [],
   "source": []
  }
 ],
 "metadata": {
  "kernelspec": {
   "display_name": "Python 3",
   "language": "python",
   "name": "python3"
  },
  "language_info": {
   "codemirror_mode": {
    "name": "ipython",
    "version": 3
   },
   "file_extension": ".py",
   "mimetype": "text/x-python",
   "name": "python",
   "nbconvert_exporter": "python",
   "pygments_lexer": "ipython3",
   "version": "3.8.8"
  }
 },
 "nbformat": 4,
 "nbformat_minor": 5
}
